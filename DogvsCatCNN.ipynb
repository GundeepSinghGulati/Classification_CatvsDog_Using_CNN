{
  "nbformat": 4,
  "nbformat_minor": 0,
  "metadata": {
    "colab": {
      "name": "CNN.ipynb",
      "provenance": [],
      "collapsed_sections": []
    },
    "kernelspec": {
      "name": "python3",
      "display_name": "Python 3"
    },
    "accelerator": "GPU"
  },
  "cells": [
    {
      "cell_type": "code",
      "metadata": {
        "id": "TuILCq192JQW",
        "colab_type": "code",
        "colab": {}
      },
      "source": [
        "import tensorflow as tf\n",
        "from keras.preprocessing.image import ImageDataGenerator"
      ],
      "execution_count": 1,
      "outputs": []
    },
    {
      "cell_type": "code",
      "metadata": {
        "id": "b54HJ9xl28SK",
        "colab_type": "code",
        "colab": {
          "base_uri": "https://localhost:8080/",
          "height": 35
        },
        "outputId": "b534dd17-d8d6-4ecc-98bb-f3baed56ae0b"
      },
      "source": [
        "tf.__version__"
      ],
      "execution_count": 2,
      "outputs": [
        {
          "output_type": "execute_result",
          "data": {
            "application/vnd.google.colaboratory.intrinsic+json": {
              "type": "string"
            },
            "text/plain": [
              "'2.3.0'"
            ]
          },
          "metadata": {
            "tags": []
          },
          "execution_count": 2
        }
      ]
    },
    {
      "cell_type": "code",
      "metadata": {
        "id": "WDbNNzpdZOpz",
        "colab_type": "code",
        "colab": {
          "base_uri": "https://localhost:8080/",
          "height": 34
        },
        "outputId": "e13e0032-ec80-4186-aabc-18bf3381aa28"
      },
      "source": [
        "!pwd"
      ],
      "execution_count": 3,
      "outputs": [
        {
          "output_type": "stream",
          "text": [
            "/content\n"
          ],
          "name": "stdout"
        }
      ]
    },
    {
      "cell_type": "code",
      "metadata": {
        "id": "I6kPMaZoZRor",
        "colab_type": "code",
        "colab": {}
      },
      "source": [
        "import os\n",
        "from os import getcwd\n",
        "path_dataset_train = f\"{getcwd()}/../content/drive/My Drive/Datasets/dataset/training_set\"\n",
        "path_dataset_test = f\"{getcwd()}/../content/drive/My Drive/Datasets/dataset/test_set\""
      ],
      "execution_count": 4,
      "outputs": []
    },
    {
      "cell_type": "code",
      "metadata": {
        "id": "z6rZrpB03VNu",
        "colab_type": "code",
        "colab": {
          "base_uri": "https://localhost:8080/",
          "height": 34
        },
        "outputId": "b3135058-8317-43c8-d85f-0516b6719a37"
      },
      "source": [
        "train_datagen = ImageDataGenerator(\n",
        "    rescale = 1./255,\n",
        "    shear_range = 0.2,\n",
        "    zoom_range = 0.2,\n",
        "    horizontal_flip = True)\n",
        "training_set = train_datagen.flow_from_directory(\n",
        "    path_dataset_train,\n",
        "    target_size = (224,224),\n",
        "    batch_size = 64,\n",
        "    class_mode = 'binary')"
      ],
      "execution_count": 5,
      "outputs": [
        {
          "output_type": "stream",
          "text": [
            "Found 8000 images belonging to 2 classes.\n"
          ],
          "name": "stdout"
        }
      ]
    },
    {
      "cell_type": "code",
      "metadata": {
        "id": "fQq8_m5R60ZG",
        "colab_type": "code",
        "colab": {
          "base_uri": "https://localhost:8080/",
          "height": 34
        },
        "outputId": "fc23ecd8-9096-4685-d3e8-d3cf559a2e53"
      },
      "source": [
        "test_datagen = ImageDataGenerator(\n",
        "    rescale = 1./255    \n",
        ")\n",
        "test_set = test_datagen.flow_from_directory(\n",
        "    path_dataset_test,\n",
        "    target_size = (224,224),\n",
        "    batch_size = 64,\n",
        "    class_mode = 'binary'\n",
        ")"
      ],
      "execution_count": 6,
      "outputs": [
        {
          "output_type": "stream",
          "text": [
            "Found 2000 images belonging to 2 classes.\n"
          ],
          "name": "stdout"
        }
      ]
    },
    {
      "cell_type": "code",
      "metadata": {
        "id": "Q1SVXnbBbyEH",
        "colab_type": "code",
        "colab": {}
      },
      "source": [
        "cnn = tf.keras.models.Sequential()"
      ],
      "execution_count": 7,
      "outputs": []
    },
    {
      "cell_type": "code",
      "metadata": {
        "id": "Lm1tS7GKecuP",
        "colab_type": "code",
        "colab": {}
      },
      "source": [
        "cnn.add(tf.keras.layers.Conv2D(filters=32, kernel_size = 3, activation='relu', input_shape=[224,224,3]))"
      ],
      "execution_count": 8,
      "outputs": []
    },
    {
      "cell_type": "code",
      "metadata": {
        "id": "yf4cdtMqGUMS",
        "colab_type": "code",
        "colab": {}
      },
      "source": [
        "cnn.add(tf.keras.layers.MaxPool2D(pool_size = 2,strides = 2))"
      ],
      "execution_count": 9,
      "outputs": []
    },
    {
      "cell_type": "code",
      "metadata": {
        "id": "dmRC5mE3IvZH",
        "colab_type": "code",
        "colab": {}
      },
      "source": [
        "cnn.add(tf.keras.layers.Conv2D(filters=32, kernel_size = 3, activation='relu'))\n",
        "cnn.add(tf.keras.layers.MaxPool2D(pool_size = 2,strides = 2))"
      ],
      "execution_count": 10,
      "outputs": []
    },
    {
      "cell_type": "code",
      "metadata": {
        "id": "5ZyWAKqKJUn0",
        "colab_type": "code",
        "colab": {}
      },
      "source": [
        "cnn.add(tf.keras.layers.Flatten())"
      ],
      "execution_count": 11,
      "outputs": []
    },
    {
      "cell_type": "code",
      "metadata": {
        "id": "Fom9F_rEJqYD",
        "colab_type": "code",
        "colab": {}
      },
      "source": [
        "cnn.add(tf.keras.layers.Dense(units = 128, activation= 'relu'))"
      ],
      "execution_count": 12,
      "outputs": []
    },
    {
      "cell_type": "code",
      "metadata": {
        "id": "rhoOTBtUKOhG",
        "colab_type": "code",
        "colab": {}
      },
      "source": [
        "cnn.add(tf.keras.layers.Dense(units= 1, activation='sigmoid'))"
      ],
      "execution_count": 13,
      "outputs": []
    },
    {
      "cell_type": "code",
      "metadata": {
        "id": "8msV83f8KqtY",
        "colab_type": "code",
        "colab": {}
      },
      "source": [
        "opt = tf.keras.optimizers.Adam(\n",
        "    learning_rate=0.001,\n",
        "    beta_1=0.9,\n",
        "    beta_2=0.999,\n",
        "    epsilon=1e-07)\n",
        "cnn.compile(optimizer= opt ,loss= 'binary_crossentropy',metrics= ['accuracy'])"
      ],
      "execution_count": 14,
      "outputs": []
    },
    {
      "cell_type": "code",
      "metadata": {
        "id": "Y8E_5iZyLRPJ",
        "colab_type": "code",
        "colab": {
          "base_uri": "https://localhost:8080/",
          "height": 904
        },
        "outputId": "3dce39d3-32d9-4582-8aa5-5ee9d234e721"
      },
      "source": [
        "cnn.fit(x = training_set, validation_data= test_set, epochs = 25)"
      ],
      "execution_count": 15,
      "outputs": [
        {
          "output_type": "stream",
          "text": [
            "Epoch 1/25\n",
            "125/125 [==============================] - 4585s 37s/step - loss: 0.7842 - accuracy: 0.5735 - val_loss: 0.6640 - val_accuracy: 0.6105\n",
            "Epoch 2/25\n",
            "125/125 [==============================] - 109s 873ms/step - loss: 0.6484 - accuracy: 0.6269 - val_loss: 0.6399 - val_accuracy: 0.6415\n",
            "Epoch 3/25\n",
            "125/125 [==============================] - 107s 852ms/step - loss: 0.6073 - accuracy: 0.6701 - val_loss: 0.6001 - val_accuracy: 0.6910\n",
            "Epoch 4/25\n",
            "125/125 [==============================] - 106s 846ms/step - loss: 0.5672 - accuracy: 0.7090 - val_loss: 0.5495 - val_accuracy: 0.7200\n",
            "Epoch 5/25\n",
            "125/125 [==============================] - 106s 845ms/step - loss: 0.5547 - accuracy: 0.7207 - val_loss: 0.5675 - val_accuracy: 0.7155\n",
            "Epoch 6/25\n",
            "125/125 [==============================] - 106s 848ms/step - loss: 0.5277 - accuracy: 0.7368 - val_loss: 0.5632 - val_accuracy: 0.7230\n",
            "Epoch 7/25\n",
            "125/125 [==============================] - 105s 843ms/step - loss: 0.4919 - accuracy: 0.7614 - val_loss: 0.4880 - val_accuracy: 0.7555\n",
            "Epoch 8/25\n",
            "125/125 [==============================] - 106s 845ms/step - loss: 0.4593 - accuracy: 0.7868 - val_loss: 0.4787 - val_accuracy: 0.7645\n",
            "Epoch 9/25\n",
            "125/125 [==============================] - 105s 843ms/step - loss: 0.4276 - accuracy: 0.8055 - val_loss: 0.4744 - val_accuracy: 0.7760\n",
            "Epoch 10/25\n",
            "125/125 [==============================] - 106s 845ms/step - loss: 0.4176 - accuracy: 0.8098 - val_loss: 0.4616 - val_accuracy: 0.7920\n",
            "Epoch 11/25\n",
            "125/125 [==============================] - 106s 849ms/step - loss: 0.3969 - accuracy: 0.8216 - val_loss: 0.4633 - val_accuracy: 0.7850\n",
            "Epoch 12/25\n",
            "125/125 [==============================] - 105s 844ms/step - loss: 0.3716 - accuracy: 0.8354 - val_loss: 0.4885 - val_accuracy: 0.7790\n",
            "Epoch 13/25\n",
            "125/125 [==============================] - 106s 846ms/step - loss: 0.3604 - accuracy: 0.8369 - val_loss: 0.5251 - val_accuracy: 0.7665\n",
            "Epoch 14/25\n",
            "125/125 [==============================] - 106s 848ms/step - loss: 0.3398 - accuracy: 0.8489 - val_loss: 0.4714 - val_accuracy: 0.7880\n",
            "Epoch 15/25\n",
            "125/125 [==============================] - 106s 846ms/step - loss: 0.3280 - accuracy: 0.8599 - val_loss: 0.4633 - val_accuracy: 0.7980\n",
            "Epoch 16/25\n",
            "125/125 [==============================] - 105s 842ms/step - loss: 0.3007 - accuracy: 0.8708 - val_loss: 0.4883 - val_accuracy: 0.7930\n",
            "Epoch 17/25\n",
            "125/125 [==============================] - 106s 847ms/step - loss: 0.2795 - accuracy: 0.8824 - val_loss: 0.5330 - val_accuracy: 0.7880\n",
            "Epoch 18/25\n",
            "125/125 [==============================] - 105s 842ms/step - loss: 0.2758 - accuracy: 0.8859 - val_loss: 0.5002 - val_accuracy: 0.7980\n",
            "Epoch 19/25\n",
            "125/125 [==============================] - 106s 846ms/step - loss: 0.2612 - accuracy: 0.8910 - val_loss: 0.5052 - val_accuracy: 0.8070\n",
            "Epoch 20/25\n",
            "125/125 [==============================] - 107s 854ms/step - loss: 0.2366 - accuracy: 0.9026 - val_loss: 0.5460 - val_accuracy: 0.7945\n",
            "Epoch 21/25\n",
            "125/125 [==============================] - 106s 846ms/step - loss: 0.2304 - accuracy: 0.9040 - val_loss: 0.5716 - val_accuracy: 0.7815\n",
            "Epoch 22/25\n",
            "125/125 [==============================] - 105s 842ms/step - loss: 0.2130 - accuracy: 0.9144 - val_loss: 0.5608 - val_accuracy: 0.7830\n",
            "Epoch 23/25\n",
            "125/125 [==============================] - 106s 849ms/step - loss: 0.1998 - accuracy: 0.9197 - val_loss: 0.5811 - val_accuracy: 0.7855\n",
            "Epoch 24/25\n",
            "125/125 [==============================] - 106s 852ms/step - loss: 0.1830 - accuracy: 0.9291 - val_loss: 0.6342 - val_accuracy: 0.8005\n",
            "Epoch 25/25\n",
            "125/125 [==============================] - 107s 856ms/step - loss: 0.1690 - accuracy: 0.9359 - val_loss: 0.6317 - val_accuracy: 0.8040\n"
          ],
          "name": "stdout"
        },
        {
          "output_type": "execute_result",
          "data": {
            "text/plain": [
              "<tensorflow.python.keras.callbacks.History at 0x7fb11d586358>"
            ]
          },
          "metadata": {
            "tags": []
          },
          "execution_count": 15
        }
      ]
    },
    {
      "cell_type": "code",
      "metadata": {
        "id": "vXWEdwQJMwF7",
        "colab_type": "code",
        "colab": {}
      },
      "source": [
        "import numpy as np\n",
        "from keras.preprocessing import image\n",
        "test_image = image.load_img('/content/drive/My Drive/Datasets/dataset/single_prediction/dog6.jpg', target_size = (224,224))\n",
        "test_image = image.img_to_array(test_image)\n",
        "test_image = np.expand_dims(test_image, axis = 0)\n",
        "result = cnn.predict(test_image)\n",
        "training_set.class_indices\n",
        "if result[0][0] == 1:\n",
        "  prediction = 'Dog'\n",
        "else:\n",
        "  prediction = 'Cat'\n"
      ],
      "execution_count": 42,
      "outputs": []
    },
    {
      "cell_type": "code",
      "metadata": {
        "id": "ciHnq1GEQ6If",
        "colab_type": "code",
        "colab": {
          "base_uri": "https://localhost:8080/",
          "height": 34
        },
        "outputId": "0374f2bf-2183-4039-a32d-68889ace0daa"
      },
      "source": [
        "print(prediction)"
      ],
      "execution_count": 43,
      "outputs": [
        {
          "output_type": "stream",
          "text": [
            "Dog\n"
          ],
          "name": "stdout"
        }
      ]
    }
  ]
}